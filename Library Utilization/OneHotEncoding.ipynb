{
 "cells": [
  {
   "cell_type": "code",
   "execution_count": 35,
   "id": "ad3bea73",
   "metadata": {},
   "outputs": [],
   "source": [
    "#Importing pandas\n",
    "import pandas as pd"
   ]
  },
  {
   "cell_type": "code",
   "execution_count": 36,
   "id": "50d5acf0",
   "metadata": {},
   "outputs": [],
   "source": [
    "#Importing my dataset\n",
    "df=pd.read_csv(r'C:\\Users\\HP\\Documents\\ML\\Library Utilization\\library_data.csv')"
   ]
  },
  {
   "cell_type": "code",
   "execution_count": 44,
   "id": "8178c985",
   "metadata": {},
   "outputs": [
    {
     "data": {
      "text/html": [
       "<div>\n",
       "<style scoped>\n",
       "    .dataframe tbody tr th:only-of-type {\n",
       "        vertical-align: middle;\n",
       "    }\n",
       "\n",
       "    .dataframe tbody tr th {\n",
       "        vertical-align: top;\n",
       "    }\n",
       "\n",
       "    .dataframe thead th {\n",
       "        text-align: right;\n",
       "    }\n",
       "</style>\n",
       "<table border=\"1\" class=\"dataframe\">\n",
       "  <thead>\n",
       "    <tr style=\"text-align: right;\">\n",
       "      <th></th>\n",
       "      <th>Level of Study</th>\n",
       "      <th>College</th>\n",
       "      <th>Mode of Study</th>\n",
       "      <th>Sex</th>\n",
       "      <th>Location</th>\n",
       "      <th>Library Form</th>\n",
       "      <th>Score</th>\n",
       "      <th>Level of Awarenes</th>\n",
       "      <th>library utilization</th>\n",
       "    </tr>\n",
       "  </thead>\n",
       "  <tbody>\n",
       "    <tr>\n",
       "      <th>0</th>\n",
       "      <td>Degree</td>\n",
       "      <td>COANRE</td>\n",
       "      <td>Full-Time</td>\n",
       "      <td>Male</td>\n",
       "      <td>NaN</td>\n",
       "      <td>Digital</td>\n",
       "      <td>6</td>\n",
       "      <td>Low</td>\n",
       "      <td>0</td>\n",
       "    </tr>\n",
       "    <tr>\n",
       "      <th>1</th>\n",
       "      <td>Degree</td>\n",
       "      <td>COETEC</td>\n",
       "      <td>Full-Time</td>\n",
       "      <td>Male</td>\n",
       "      <td>NaN</td>\n",
       "      <td>Physical</td>\n",
       "      <td>6</td>\n",
       "      <td>Low</td>\n",
       "      <td>0</td>\n",
       "    </tr>\n",
       "    <tr>\n",
       "      <th>2</th>\n",
       "      <td>Diploma</td>\n",
       "      <td>COANRE</td>\n",
       "      <td>Full-Time</td>\n",
       "      <td>Female</td>\n",
       "      <td>On-campus</td>\n",
       "      <td>Physical</td>\n",
       "      <td>12</td>\n",
       "      <td>Moderate</td>\n",
       "      <td>1</td>\n",
       "    </tr>\n",
       "    <tr>\n",
       "      <th>3</th>\n",
       "      <td>Degree</td>\n",
       "      <td>COPAS</td>\n",
       "      <td>Full-Time</td>\n",
       "      <td>Male</td>\n",
       "      <td>Off-campus</td>\n",
       "      <td>Physical</td>\n",
       "      <td>6</td>\n",
       "      <td>Low</td>\n",
       "      <td>0</td>\n",
       "    </tr>\n",
       "    <tr>\n",
       "      <th>4</th>\n",
       "      <td>Degree</td>\n",
       "      <td>COPAS</td>\n",
       "      <td>Full-Time</td>\n",
       "      <td>Male</td>\n",
       "      <td>Off-campus</td>\n",
       "      <td>Digital</td>\n",
       "      <td>6</td>\n",
       "      <td>Low</td>\n",
       "      <td>0</td>\n",
       "    </tr>\n",
       "    <tr>\n",
       "      <th>...</th>\n",
       "      <td>...</td>\n",
       "      <td>...</td>\n",
       "      <td>...</td>\n",
       "      <td>...</td>\n",
       "      <td>...</td>\n",
       "      <td>...</td>\n",
       "      <td>...</td>\n",
       "      <td>...</td>\n",
       "      <td>...</td>\n",
       "    </tr>\n",
       "    <tr>\n",
       "      <th>399</th>\n",
       "      <td>Degree</td>\n",
       "      <td>COPAS</td>\n",
       "      <td>Full-Time</td>\n",
       "      <td>Male</td>\n",
       "      <td>Off-campus</td>\n",
       "      <td>Physical</td>\n",
       "      <td>14</td>\n",
       "      <td>High</td>\n",
       "      <td>1</td>\n",
       "    </tr>\n",
       "    <tr>\n",
       "      <th>400</th>\n",
       "      <td>Degree</td>\n",
       "      <td>COPAS</td>\n",
       "      <td>Full-Time</td>\n",
       "      <td>Male</td>\n",
       "      <td>Off-campus</td>\n",
       "      <td>Digital</td>\n",
       "      <td>18</td>\n",
       "      <td>High</td>\n",
       "      <td>1</td>\n",
       "    </tr>\n",
       "    <tr>\n",
       "      <th>401</th>\n",
       "      <td>Degree</td>\n",
       "      <td>COPAS</td>\n",
       "      <td>Full-Time</td>\n",
       "      <td>Male</td>\n",
       "      <td>Off-campus</td>\n",
       "      <td>Digital</td>\n",
       "      <td>18</td>\n",
       "      <td>High</td>\n",
       "      <td>0</td>\n",
       "    </tr>\n",
       "    <tr>\n",
       "      <th>402</th>\n",
       "      <td>Degree</td>\n",
       "      <td>COPAS</td>\n",
       "      <td>Full-Time</td>\n",
       "      <td>Male</td>\n",
       "      <td>Off-campus</td>\n",
       "      <td>Digital</td>\n",
       "      <td>12</td>\n",
       "      <td>Moderate</td>\n",
       "      <td>1</td>\n",
       "    </tr>\n",
       "    <tr>\n",
       "      <th>403</th>\n",
       "      <td>Degree</td>\n",
       "      <td>COPAS</td>\n",
       "      <td>Full-Time</td>\n",
       "      <td>Male</td>\n",
       "      <td>Off-campus</td>\n",
       "      <td>Physical</td>\n",
       "      <td>12</td>\n",
       "      <td>Moderate</td>\n",
       "      <td>0</td>\n",
       "    </tr>\n",
       "  </tbody>\n",
       "</table>\n",
       "<p>404 rows × 9 columns</p>\n",
       "</div>"
      ],
      "text/plain": [
       "    Level of Study College Mode of Study     Sex    Location Library Form  \\\n",
       "0           Degree  COANRE     Full-Time    Male         NaN      Digital   \n",
       "1           Degree  COETEC     Full-Time    Male         NaN     Physical   \n",
       "2          Diploma  COANRE     Full-Time  Female   On-campus     Physical   \n",
       "3           Degree   COPAS     Full-Time    Male  Off-campus     Physical   \n",
       "4           Degree   COPAS     Full-Time    Male  Off-campus      Digital   \n",
       "..             ...     ...           ...     ...         ...          ...   \n",
       "399         Degree   COPAS     Full-Time    Male  Off-campus     Physical   \n",
       "400         Degree   COPAS     Full-Time    Male  Off-campus      Digital   \n",
       "401         Degree   COPAS     Full-Time    Male  Off-campus      Digital   \n",
       "402         Degree   COPAS     Full-Time    Male  Off-campus      Digital   \n",
       "403         Degree   COPAS     Full-Time    Male  Off-campus     Physical   \n",
       "\n",
       "     Score Level of Awarenes  library utilization  \n",
       "0        6               Low                    0  \n",
       "1        6               Low                    0  \n",
       "2       12          Moderate                    1  \n",
       "3        6               Low                    0  \n",
       "4        6               Low                    0  \n",
       "..     ...               ...                  ...  \n",
       "399     14              High                    1  \n",
       "400     18              High                    1  \n",
       "401     18              High                    0  \n",
       "402     12          Moderate                    1  \n",
       "403     12          Moderate                    0  \n",
       "\n",
       "[404 rows x 9 columns]"
      ]
     },
     "execution_count": 44,
     "metadata": {},
     "output_type": "execute_result"
    }
   ],
   "source": [
    "#Confirming my dataset\n",
    "df[:2]"
   ]
  },
  {
   "cell_type": "code",
   "execution_count": 34,
   "id": "a8ced06e",
   "metadata": {},
   "outputs": [
    {
     "data": {
      "text/plain": [
       "Physical/ Tangible (books, newspapers,journals)    208\n",
       "Digital/ Online (e-books, e-journals etc)          195\n",
       "Name: Library Form, dtype: int64"
      ]
     },
     "execution_count": 34,
     "metadata": {},
     "output_type": "execute_result"
    }
   ],
   "source": [
    "#Features for column library form\n",
    "df['Library Form'].value_counts()"
   ]
  },
  {
   "cell_type": "code",
   "execution_count": 9,
   "id": "be274b33",
   "metadata": {},
   "outputs": [
    {
     "data": {
      "text/plain": [
       "Degree     330\n",
       "Diploma     66\n",
       "Masters      6\n",
       "PhD          2\n",
       "Name: Level of Study, dtype: int64"
      ]
     },
     "execution_count": 9,
     "metadata": {},
     "output_type": "execute_result"
    }
   ],
   "source": [
    "#Features for column level of study\n",
    "df['Level of Study'].value_counts()"
   ]
  },
  {
   "cell_type": "code",
   "execution_count": 11,
   "id": "a351178b",
   "metadata": {},
   "outputs": [
    {
     "data": {
      "text/plain": [
       "COPAS     90\n",
       "COANRE    83\n",
       "COETEC    80\n",
       "COHES     76\n",
       "COHRED    75\n",
       "Name: College, dtype: int64"
      ]
     },
     "execution_count": 11,
     "metadata": {},
     "output_type": "execute_result"
    }
   ],
   "source": [
    "#Features for column college\n",
    "df['College'].value_counts()"
   ]
  },
  {
   "cell_type": "code",
   "execution_count": 12,
   "id": "170757e5",
   "metadata": {},
   "outputs": [
    {
     "data": {
      "text/plain": [
       "Full-Time    348\n",
       "Part-Time     56\n",
       "Name: Mode of Study, dtype: int64"
      ]
     },
     "execution_count": 12,
     "metadata": {},
     "output_type": "execute_result"
    }
   ],
   "source": [
    "#Features for column mode of study\n",
    "df['Mode of Study'].value_counts()"
   ]
  },
  {
   "cell_type": "code",
   "execution_count": 13,
   "id": "84d421bf",
   "metadata": {},
   "outputs": [
    {
     "data": {
      "text/plain": [
       "Male      224\n",
       "Female    180\n",
       "Name: Sex, dtype: int64"
      ]
     },
     "execution_count": 13,
     "metadata": {},
     "output_type": "execute_result"
    }
   ],
   "source": [
    "#Features for column sex\n",
    "df['Sex'].value_counts()"
   ]
  },
  {
   "cell_type": "code",
   "execution_count": 16,
   "id": "bb7f7a6b",
   "metadata": {},
   "outputs": [
    {
     "data": {
      "text/plain": [
       "Moderate    163\n",
       "High        129\n",
       "Low         112\n",
       "Name: Level of Awarenes, dtype: int64"
      ]
     },
     "execution_count": 16,
     "metadata": {},
     "output_type": "execute_result"
    }
   ],
   "source": [
    "#Features for column level of awarenes\n",
    "df['Level of Awarenes'].value_counts()"
   ]
  },
  {
   "cell_type": "code",
   "execution_count": 45,
   "id": "922ae286",
   "metadata": {},
   "outputs": [
    {
     "data": {
      "text/plain": [
       "Rarely (1-3 times)                203\n",
       "Sometimes (4-7 times)             149\n",
       "Frequently (more than 7 times)     52\n",
       "Name: library utilization, dtype: int64"
      ]
     },
     "execution_count": 45,
     "metadata": {},
     "output_type": "execute_result"
    }
   ],
   "source": [
    "#Labels to predict  \n",
    "df['library utilization'].value_counts()"
   ]
  },
  {
   "cell_type": "code",
   "execution_count": 38,
   "id": "45add669",
   "metadata": {},
   "outputs": [
    {
     "data": {
      "text/plain": [
       "Off-campus    260\n",
       "On-campus     141\n",
       "Name: Location, dtype: int64"
      ]
     },
     "execution_count": 38,
     "metadata": {},
     "output_type": "execute_result"
    }
   ],
   "source": [
    "#Mapping outside of campus to off-campus and within campus to on-campus \n",
    "df['Location']=df.Location.map({'Outside of Campus':'Off-campus','Off-campus':'Off-campus','Within/ in school campus':'On-campus','On-campus':'On-campus'})\n",
    "df['Location'].value_counts()"
   ]
  },
  {
   "cell_type": "code",
   "execution_count": 39,
   "id": "b3259b50",
   "metadata": {},
   "outputs": [
    {
     "data": {
      "text/plain": [
       "Physical    208\n",
       "Digital     195\n",
       "Name: Library Form, dtype: int64"
      ]
     },
     "execution_count": 39,
     "metadata": {},
     "output_type": "execute_result"
    }
   ],
   "source": [
    "#Mapping\n",
    "df['Library Form']=df['Library Form'].map({'Digital/ Online (e-books, e-journals etc)':'Digital','Physical/ Tangible (books, newspapers,journals)':'Physical'})\n",
    "df['Library Form'].value_counts()"
   ]
  },
  {
   "cell_type": "code",
   "execution_count": 42,
   "id": "778b2bd7",
   "metadata": {},
   "outputs": [
    {
     "data": {
      "text/plain": [
       "0    203\n",
       "1    149\n",
       "2     52\n",
       "Name: library utilization, dtype: int64"
      ]
     },
     "execution_count": 42,
     "metadata": {},
     "output_type": "execute_result"
    }
   ],
   "source": [
    "#Mapping\n",
    "df['library utilization']=df['library utilization'].map({'Frequently (more than 7 times)':2,'Rarely (1-3 times)':0,'Sometimes (4-7 times)':1})\n",
    "df['library utilization'].value_counts()"
   ]
  },
  {
   "cell_type": "code",
   "execution_count": 40,
   "id": "d955b698",
   "metadata": {},
   "outputs": [],
   "source": [
    "#Dropping irrelevant column\n",
    "df.drop(columns=['entry'],inplace=True)"
   ]
  },
  {
   "cell_type": "code",
   "execution_count": 41,
   "id": "0f61f536",
   "metadata": {},
   "outputs": [
    {
     "data": {
      "text/plain": [
       "['Level of Study',\n",
       " 'College',\n",
       " 'Mode of Study',\n",
       " 'Sex',\n",
       " 'Location',\n",
       " 'Library Form',\n",
       " 'Score',\n",
       " 'Level of Awarenes',\n",
       " 'library utilization']"
      ]
     },
     "execution_count": 41,
     "metadata": {},
     "output_type": "execute_result"
    }
   ],
   "source": [
    "#List of my new columns\n",
    "list(df.columns)"
   ]
  },
  {
   "cell_type": "code",
   "execution_count": 43,
   "id": "d51614db",
   "metadata": {},
   "outputs": [
    {
     "data": {
      "text/html": [
       "<div>\n",
       "<style scoped>\n",
       "    .dataframe tbody tr th:only-of-type {\n",
       "        vertical-align: middle;\n",
       "    }\n",
       "\n",
       "    .dataframe tbody tr th {\n",
       "        vertical-align: top;\n",
       "    }\n",
       "\n",
       "    .dataframe thead th {\n",
       "        text-align: right;\n",
       "    }\n",
       "</style>\n",
       "<table border=\"1\" class=\"dataframe\">\n",
       "  <thead>\n",
       "    <tr style=\"text-align: right;\">\n",
       "      <th></th>\n",
       "      <th>Level of Study</th>\n",
       "      <th>College</th>\n",
       "      <th>Mode of Study</th>\n",
       "      <th>Sex</th>\n",
       "      <th>Location</th>\n",
       "      <th>Library Form</th>\n",
       "      <th>Score</th>\n",
       "      <th>Level of Awarenes</th>\n",
       "    </tr>\n",
       "  </thead>\n",
       "  <tbody>\n",
       "    <tr>\n",
       "      <th>0</th>\n",
       "      <td>Degree</td>\n",
       "      <td>COANRE</td>\n",
       "      <td>Full-Time</td>\n",
       "      <td>Male</td>\n",
       "      <td>NaN</td>\n",
       "      <td>Digital</td>\n",
       "      <td>6</td>\n",
       "      <td>Low</td>\n",
       "    </tr>\n",
       "    <tr>\n",
       "      <th>1</th>\n",
       "      <td>Degree</td>\n",
       "      <td>COETEC</td>\n",
       "      <td>Full-Time</td>\n",
       "      <td>Male</td>\n",
       "      <td>NaN</td>\n",
       "      <td>Physical</td>\n",
       "      <td>6</td>\n",
       "      <td>Low</td>\n",
       "    </tr>\n",
       "    <tr>\n",
       "      <th>2</th>\n",
       "      <td>Diploma</td>\n",
       "      <td>COANRE</td>\n",
       "      <td>Full-Time</td>\n",
       "      <td>Female</td>\n",
       "      <td>On-campus</td>\n",
       "      <td>Physical</td>\n",
       "      <td>12</td>\n",
       "      <td>Moderate</td>\n",
       "    </tr>\n",
       "    <tr>\n",
       "      <th>3</th>\n",
       "      <td>Degree</td>\n",
       "      <td>COPAS</td>\n",
       "      <td>Full-Time</td>\n",
       "      <td>Male</td>\n",
       "      <td>Off-campus</td>\n",
       "      <td>Physical</td>\n",
       "      <td>6</td>\n",
       "      <td>Low</td>\n",
       "    </tr>\n",
       "    <tr>\n",
       "      <th>4</th>\n",
       "      <td>Degree</td>\n",
       "      <td>COPAS</td>\n",
       "      <td>Full-Time</td>\n",
       "      <td>Male</td>\n",
       "      <td>Off-campus</td>\n",
       "      <td>Digital</td>\n",
       "      <td>6</td>\n",
       "      <td>Low</td>\n",
       "    </tr>\n",
       "    <tr>\n",
       "      <th>...</th>\n",
       "      <td>...</td>\n",
       "      <td>...</td>\n",
       "      <td>...</td>\n",
       "      <td>...</td>\n",
       "      <td>...</td>\n",
       "      <td>...</td>\n",
       "      <td>...</td>\n",
       "      <td>...</td>\n",
       "    </tr>\n",
       "    <tr>\n",
       "      <th>399</th>\n",
       "      <td>Degree</td>\n",
       "      <td>COPAS</td>\n",
       "      <td>Full-Time</td>\n",
       "      <td>Male</td>\n",
       "      <td>Off-campus</td>\n",
       "      <td>Physical</td>\n",
       "      <td>14</td>\n",
       "      <td>High</td>\n",
       "    </tr>\n",
       "    <tr>\n",
       "      <th>400</th>\n",
       "      <td>Degree</td>\n",
       "      <td>COPAS</td>\n",
       "      <td>Full-Time</td>\n",
       "      <td>Male</td>\n",
       "      <td>Off-campus</td>\n",
       "      <td>Digital</td>\n",
       "      <td>18</td>\n",
       "      <td>High</td>\n",
       "    </tr>\n",
       "    <tr>\n",
       "      <th>401</th>\n",
       "      <td>Degree</td>\n",
       "      <td>COPAS</td>\n",
       "      <td>Full-Time</td>\n",
       "      <td>Male</td>\n",
       "      <td>Off-campus</td>\n",
       "      <td>Digital</td>\n",
       "      <td>18</td>\n",
       "      <td>High</td>\n",
       "    </tr>\n",
       "    <tr>\n",
       "      <th>402</th>\n",
       "      <td>Degree</td>\n",
       "      <td>COPAS</td>\n",
       "      <td>Full-Time</td>\n",
       "      <td>Male</td>\n",
       "      <td>Off-campus</td>\n",
       "      <td>Digital</td>\n",
       "      <td>12</td>\n",
       "      <td>Moderate</td>\n",
       "    </tr>\n",
       "    <tr>\n",
       "      <th>403</th>\n",
       "      <td>Degree</td>\n",
       "      <td>COPAS</td>\n",
       "      <td>Full-Time</td>\n",
       "      <td>Male</td>\n",
       "      <td>Off-campus</td>\n",
       "      <td>Physical</td>\n",
       "      <td>12</td>\n",
       "      <td>Moderate</td>\n",
       "    </tr>\n",
       "  </tbody>\n",
       "</table>\n",
       "<p>404 rows × 8 columns</p>\n",
       "</div>"
      ],
      "text/plain": [
       "    Level of Study College Mode of Study     Sex    Location Library Form  \\\n",
       "0           Degree  COANRE     Full-Time    Male         NaN      Digital   \n",
       "1           Degree  COETEC     Full-Time    Male         NaN     Physical   \n",
       "2          Diploma  COANRE     Full-Time  Female   On-campus     Physical   \n",
       "3           Degree   COPAS     Full-Time    Male  Off-campus     Physical   \n",
       "4           Degree   COPAS     Full-Time    Male  Off-campus      Digital   \n",
       "..             ...     ...           ...     ...         ...          ...   \n",
       "399         Degree   COPAS     Full-Time    Male  Off-campus     Physical   \n",
       "400         Degree   COPAS     Full-Time    Male  Off-campus      Digital   \n",
       "401         Degree   COPAS     Full-Time    Male  Off-campus      Digital   \n",
       "402         Degree   COPAS     Full-Time    Male  Off-campus      Digital   \n",
       "403         Degree   COPAS     Full-Time    Male  Off-campus     Physical   \n",
       "\n",
       "     Score Level of Awarenes  \n",
       "0        6               Low  \n",
       "1        6               Low  \n",
       "2       12          Moderate  \n",
       "3        6               Low  \n",
       "4        6               Low  \n",
       "..     ...               ...  \n",
       "399     14              High  \n",
       "400     18              High  \n",
       "401     18              High  \n",
       "402     12          Moderate  \n",
       "403     12          Moderate  \n",
       "\n",
       "[404 rows x 8 columns]"
      ]
     },
     "execution_count": 43,
     "metadata": {},
     "output_type": "execute_result"
    }
   ],
   "source": [
    "#My data for X\n",
    "features=df[['Level of Study',\n",
    " 'College',\n",
    " 'Mode of Study',\n",
    " 'Sex',\n",
    " 'Location',\n",
    " 'Library Form',\n",
    " 'Score',\n",
    " 'Level of Awarenes']]\n",
    "features"
   ]
  },
  {
   "cell_type": "code",
   "execution_count": 45,
   "id": "c9d1f139",
   "metadata": {},
   "outputs": [
    {
     "name": "stdout",
     "output_type": "stream",
     "text": [
      "Index(['Score', 'Level of Study_Degree', 'Level of Study_Diploma',\n",
      "       'Level of Study_Masters', 'Level of Study_PhD', 'College_COANRE',\n",
      "       'College_COETEC', 'College_COHES', 'College_COHRED', 'College_COPAS',\n",
      "       'Mode of Study_Full-Time', 'Mode of Study_Part-Time', 'Sex_Female',\n",
      "       'Sex_Male', 'Location_Off-campus', 'Location_On-campus',\n",
      "       'Library Form_Digital', 'Library Form_Physical',\n",
      "       'Level of Awarenes_High', 'Level of Awarenes_Low',\n",
      "       'Level of Awarenes_Moderate'],\n",
      "      dtype='object')\n"
     ]
    }
   ],
   "source": [
    "#Creating dummy variables for the features\n",
    "df_dm = pd.get_dummies(features)\n",
    "print(df_dm.columns)"
   ]
  },
  {
   "cell_type": "code",
   "execution_count": 46,
   "id": "fd5da916",
   "metadata": {},
   "outputs": [
    {
     "data": {
      "text/html": [
       "<div>\n",
       "<style scoped>\n",
       "    .dataframe tbody tr th:only-of-type {\n",
       "        vertical-align: middle;\n",
       "    }\n",
       "\n",
       "    .dataframe tbody tr th {\n",
       "        vertical-align: top;\n",
       "    }\n",
       "\n",
       "    .dataframe thead th {\n",
       "        text-align: right;\n",
       "    }\n",
       "</style>\n",
       "<table border=\"1\" class=\"dataframe\">\n",
       "  <thead>\n",
       "    <tr style=\"text-align: right;\">\n",
       "      <th></th>\n",
       "      <th>Score</th>\n",
       "      <th>Level of Study_Degree</th>\n",
       "      <th>Level of Study_Diploma</th>\n",
       "      <th>Level of Study_Masters</th>\n",
       "      <th>Level of Study_PhD</th>\n",
       "      <th>College_COANRE</th>\n",
       "      <th>College_COETEC</th>\n",
       "      <th>College_COHES</th>\n",
       "      <th>College_COHRED</th>\n",
       "      <th>College_COPAS</th>\n",
       "      <th>...</th>\n",
       "      <th>Mode of Study_Part-Time</th>\n",
       "      <th>Sex_Female</th>\n",
       "      <th>Sex_Male</th>\n",
       "      <th>Location_Off-campus</th>\n",
       "      <th>Location_On-campus</th>\n",
       "      <th>Library Form_Digital</th>\n",
       "      <th>Library Form_Physical</th>\n",
       "      <th>Level of Awarenes_High</th>\n",
       "      <th>Level of Awarenes_Low</th>\n",
       "      <th>Level of Awarenes_Moderate</th>\n",
       "    </tr>\n",
       "  </thead>\n",
       "  <tbody>\n",
       "    <tr>\n",
       "      <th>0</th>\n",
       "      <td>6</td>\n",
       "      <td>1</td>\n",
       "      <td>0</td>\n",
       "      <td>0</td>\n",
       "      <td>0</td>\n",
       "      <td>1</td>\n",
       "      <td>0</td>\n",
       "      <td>0</td>\n",
       "      <td>0</td>\n",
       "      <td>0</td>\n",
       "      <td>...</td>\n",
       "      <td>0</td>\n",
       "      <td>0</td>\n",
       "      <td>1</td>\n",
       "      <td>0</td>\n",
       "      <td>0</td>\n",
       "      <td>1</td>\n",
       "      <td>0</td>\n",
       "      <td>0</td>\n",
       "      <td>1</td>\n",
       "      <td>0</td>\n",
       "    </tr>\n",
       "    <tr>\n",
       "      <th>1</th>\n",
       "      <td>6</td>\n",
       "      <td>1</td>\n",
       "      <td>0</td>\n",
       "      <td>0</td>\n",
       "      <td>0</td>\n",
       "      <td>0</td>\n",
       "      <td>1</td>\n",
       "      <td>0</td>\n",
       "      <td>0</td>\n",
       "      <td>0</td>\n",
       "      <td>...</td>\n",
       "      <td>0</td>\n",
       "      <td>0</td>\n",
       "      <td>1</td>\n",
       "      <td>0</td>\n",
       "      <td>0</td>\n",
       "      <td>0</td>\n",
       "      <td>1</td>\n",
       "      <td>0</td>\n",
       "      <td>1</td>\n",
       "      <td>0</td>\n",
       "    </tr>\n",
       "    <tr>\n",
       "      <th>2</th>\n",
       "      <td>12</td>\n",
       "      <td>0</td>\n",
       "      <td>1</td>\n",
       "      <td>0</td>\n",
       "      <td>0</td>\n",
       "      <td>1</td>\n",
       "      <td>0</td>\n",
       "      <td>0</td>\n",
       "      <td>0</td>\n",
       "      <td>0</td>\n",
       "      <td>...</td>\n",
       "      <td>0</td>\n",
       "      <td>1</td>\n",
       "      <td>0</td>\n",
       "      <td>0</td>\n",
       "      <td>1</td>\n",
       "      <td>0</td>\n",
       "      <td>1</td>\n",
       "      <td>0</td>\n",
       "      <td>0</td>\n",
       "      <td>1</td>\n",
       "    </tr>\n",
       "    <tr>\n",
       "      <th>3</th>\n",
       "      <td>6</td>\n",
       "      <td>1</td>\n",
       "      <td>0</td>\n",
       "      <td>0</td>\n",
       "      <td>0</td>\n",
       "      <td>0</td>\n",
       "      <td>0</td>\n",
       "      <td>0</td>\n",
       "      <td>0</td>\n",
       "      <td>1</td>\n",
       "      <td>...</td>\n",
       "      <td>0</td>\n",
       "      <td>0</td>\n",
       "      <td>1</td>\n",
       "      <td>1</td>\n",
       "      <td>0</td>\n",
       "      <td>0</td>\n",
       "      <td>1</td>\n",
       "      <td>0</td>\n",
       "      <td>1</td>\n",
       "      <td>0</td>\n",
       "    </tr>\n",
       "    <tr>\n",
       "      <th>4</th>\n",
       "      <td>6</td>\n",
       "      <td>1</td>\n",
       "      <td>0</td>\n",
       "      <td>0</td>\n",
       "      <td>0</td>\n",
       "      <td>0</td>\n",
       "      <td>0</td>\n",
       "      <td>0</td>\n",
       "      <td>0</td>\n",
       "      <td>1</td>\n",
       "      <td>...</td>\n",
       "      <td>0</td>\n",
       "      <td>0</td>\n",
       "      <td>1</td>\n",
       "      <td>1</td>\n",
       "      <td>0</td>\n",
       "      <td>1</td>\n",
       "      <td>0</td>\n",
       "      <td>0</td>\n",
       "      <td>1</td>\n",
       "      <td>0</td>\n",
       "    </tr>\n",
       "  </tbody>\n",
       "</table>\n",
       "<p>5 rows × 21 columns</p>\n",
       "</div>"
      ],
      "text/plain": [
       "   Score  Level of Study_Degree  Level of Study_Diploma  \\\n",
       "0      6                      1                       0   \n",
       "1      6                      1                       0   \n",
       "2     12                      0                       1   \n",
       "3      6                      1                       0   \n",
       "4      6                      1                       0   \n",
       "\n",
       "   Level of Study_Masters  Level of Study_PhD  College_COANRE  College_COETEC  \\\n",
       "0                       0                   0               1               0   \n",
       "1                       0                   0               0               1   \n",
       "2                       0                   0               1               0   \n",
       "3                       0                   0               0               0   \n",
       "4                       0                   0               0               0   \n",
       "\n",
       "   College_COHES  College_COHRED  College_COPAS  ...  Mode of Study_Part-Time  \\\n",
       "0              0               0              0  ...                        0   \n",
       "1              0               0              0  ...                        0   \n",
       "2              0               0              0  ...                        0   \n",
       "3              0               0              1  ...                        0   \n",
       "4              0               0              1  ...                        0   \n",
       "\n",
       "   Sex_Female  Sex_Male  Location_Off-campus  Location_On-campus  \\\n",
       "0           0         1                    0                   0   \n",
       "1           0         1                    0                   0   \n",
       "2           1         0                    0                   1   \n",
       "3           0         1                    1                   0   \n",
       "4           0         1                    1                   0   \n",
       "\n",
       "   Library Form_Digital  Library Form_Physical  Level of Awarenes_High  \\\n",
       "0                     1                      0                       0   \n",
       "1                     0                      1                       0   \n",
       "2                     0                      1                       0   \n",
       "3                     0                      1                       0   \n",
       "4                     1                      0                       0   \n",
       "\n",
       "   Level of Awarenes_Low  Level of Awarenes_Moderate  \n",
       "0                      1                           0  \n",
       "1                      1                           0  \n",
       "2                      0                           1  \n",
       "3                      1                           0  \n",
       "4                      1                           0  \n",
       "\n",
       "[5 rows x 21 columns]"
      ]
     },
     "execution_count": 46,
     "metadata": {},
     "output_type": "execute_result"
    }
   ],
   "source": [
    "#Confirming the dummy variables dataset\n",
    "df_dm.head()"
   ]
  },
  {
   "cell_type": "code",
   "execution_count": 47,
   "id": "1436d411",
   "metadata": {},
   "outputs": [
    {
     "data": {
      "text/plain": [
       "array([0, 0, 1, 0, 0, 0, 0, 0, 0, 0, 0, 0, 0, 0, 0, 1, 1, 0, 1, 1, 1, 0,\n",
       "       0, 2, 0, 1, 0, 1, 0, 0, 1, 0, 0, 0, 1, 0, 0, 1, 1, 0, 1, 0, 1, 2,\n",
       "       0, 1, 0, 1, 0, 1, 2, 0, 0, 1, 0, 2, 1, 0, 1, 0, 1, 0, 1, 0, 1, 2,\n",
       "       0, 1, 0, 1, 0, 0, 0, 0, 0, 0, 1, 0, 1, 2, 1, 1, 0, 1, 1, 0, 0, 1,\n",
       "       0, 0, 0, 1, 1, 0, 2, 1, 1, 1, 2, 1, 2, 1, 1, 0, 1, 2, 1, 2, 1, 1,\n",
       "       2, 1, 0, 0, 0, 0, 1, 1, 1, 0, 1, 1, 0, 0, 1, 0, 1, 1, 0, 2, 1, 2,\n",
       "       1, 0, 1, 1, 2, 2, 0, 1, 1, 0, 1, 0, 2, 1, 1, 0, 2, 1, 1, 2, 1, 2,\n",
       "       0, 2, 0, 0, 0, 2, 2, 1, 1, 1, 2, 0, 0, 1, 1, 0, 2, 0, 1, 1, 2, 2,\n",
       "       0, 1, 2, 0, 1, 0, 1, 1, 1, 1, 2, 0, 1, 0, 1, 1, 0, 1, 2, 1, 1, 0,\n",
       "       1, 1, 2, 1, 0, 0, 1, 2, 0, 1, 0, 0, 2, 1, 0, 0, 2, 1, 0, 1, 1, 0,\n",
       "       0, 1, 0, 2, 0, 1, 1, 2, 0, 0, 1, 0, 2, 1, 0, 1, 2, 0, 1, 1, 0, 2,\n",
       "       2, 0, 0, 0, 2, 1, 2, 1, 0, 1, 0, 1, 0, 0, 0, 0, 0, 0, 0, 0, 0, 2,\n",
       "       0, 2, 0, 1, 0, 0, 0, 0, 0, 0, 0, 0, 0, 0, 0, 0, 0, 0, 0, 0, 2, 0,\n",
       "       0, 0, 0, 0, 1, 1, 0, 1, 1, 2, 0, 1, 1, 0, 1, 0, 0, 1, 1, 0, 1, 0,\n",
       "       0, 1, 1, 2, 0, 0, 1, 1, 0, 0, 0, 1, 1, 1, 0, 1, 1, 0, 0, 1, 0, 0,\n",
       "       0, 0, 0, 0, 0, 0, 0, 0, 0, 0, 0, 0, 0, 0, 0, 0, 0, 0, 0, 1, 0, 0,\n",
       "       0, 1, 0, 2, 2, 0, 1, 0, 0, 0, 1, 0, 1, 0, 1, 1, 1, 0, 0, 1, 1, 0,\n",
       "       0, 0, 2, 1, 0, 1, 0, 1, 2, 2, 1, 0, 1, 0, 0, 0, 0, 1, 0, 1, 1, 0,\n",
       "       1, 1, 0, 1, 1, 0, 1, 0], dtype=int64)"
      ]
     },
     "execution_count": 47,
     "metadata": {},
     "output_type": "execute_result"
    }
   ],
   "source": [
    "#Importing numpy\n",
    "#Converting the labels(y) series to an array\n",
    "import numpy as np\n",
    "y=np.array(df['library utilization'])\n",
    "y"
   ]
  },
  {
   "cell_type": "code",
   "execution_count": 49,
   "id": "40b48843",
   "metadata": {},
   "outputs": [
    {
     "data": {
      "text/plain": [
       "(404, 21)"
      ]
     },
     "execution_count": 49,
     "metadata": {},
     "output_type": "execute_result"
    }
   ],
   "source": [
    "#the values method converts the dataset to a 2D array\n",
    "#Shape of X data\n",
    "X=df_dm.values\n",
    "X.shape"
   ]
  },
  {
   "cell_type": "code",
   "execution_count": 50,
   "id": "82a34205",
   "metadata": {},
   "outputs": [
    {
     "data": {
      "text/plain": [
       "(404,)"
      ]
     },
     "execution_count": 50,
     "metadata": {},
     "output_type": "execute_result"
    }
   ],
   "source": [
    "#Shape of y\n",
    "y.shape"
   ]
  },
  {
   "cell_type": "markdown",
   "id": "db4eff18",
   "metadata": {},
   "source": [
    "# LOGISTIC REGRESSION"
   ]
  },
  {
   "cell_type": "code",
   "execution_count": 51,
   "id": "6f256b28",
   "metadata": {},
   "outputs": [
    {
     "name": "stdout",
     "output_type": "stream",
     "text": [
      "Train score: 0.66\n",
      "Test score: 0.68\n"
     ]
    },
    {
     "name": "stderr",
     "output_type": "stream",
     "text": [
      "C:\\Users\\HP\\anaconda3\\lib\\site-packages\\sklearn\\linear_model\\_logistic.py:763: ConvergenceWarning: lbfgs failed to converge (status=1):\n",
      "STOP: TOTAL NO. of ITERATIONS REACHED LIMIT.\n",
      "\n",
      "Increase the number of iterations (max_iter) or scale the data as shown in:\n",
      "    https://scikit-learn.org/stable/modules/preprocessing.html\n",
      "Please also refer to the documentation for alternative solver options:\n",
      "    https://scikit-learn.org/stable/modules/linear_model.html#logistic-regression\n",
      "  n_iter_i = _check_optimize_result(\n"
     ]
    }
   ],
   "source": [
    "#Building a logistic regression model\n",
    "#Importing necessary modules\n",
    "from sklearn.linear_model import LogisticRegression\n",
    "from sklearn.model_selection import train_test_split\n",
    "X_train, X_test, y_train, y_test = train_test_split(X, y, random_state=0)\n",
    "logreg = LogisticRegression()\n",
    "logreg.fit(X_train, y_train)\n",
    "print(\"Train score: {:.2f}\".format(logreg.score(X_train, y_train)))\n",
    "print(\"Test score: {:.2f}\".format(logreg.score(X_test, y_test)))"
   ]
  },
  {
   "cell_type": "code",
   "execution_count": 52,
   "id": "86d8ef24",
   "metadata": {},
   "outputs": [
    {
     "name": "stdout",
     "output_type": "stream",
     "text": [
      "(1, 21)\n"
     ]
    },
    {
     "data": {
      "text/plain": [
       "array([[12,  0,  1,  0,  0,  1,  0,  0,  0,  0,  1,  0,  1,  0,  0,  1,\n",
       "         0,  1,  0,  0,  1]], dtype=int64)"
      ]
     },
     "execution_count": 52,
     "metadata": {},
     "output_type": "execute_result"
    }
   ],
   "source": [
    "#Fetching the 3rd row of the X array\n",
    "X_new=np.array([X[2]])\n",
    "print(X_new.shape)\n",
    "X_new"
   ]
  },
  {
   "cell_type": "code",
   "execution_count": 53,
   "id": "0e37e03c",
   "metadata": {},
   "outputs": [
    {
     "name": "stdout",
     "output_type": "stream",
     "text": [
      "Sometimes\n"
     ]
    }
   ],
   "source": [
    "#Predicting the 3rd row\n",
    "pred=logreg.predict(X_new)\n",
    "if pred==0:\n",
    "    print('Rarely')\n",
    "elif pred==1:\n",
    "    print('Sometimes')\n",
    "else:\n",
    "    print('Frequently')"
   ]
  },
  {
   "cell_type": "markdown",
   "id": "7c91e324",
   "metadata": {},
   "source": [
    "# GRADIENT BOOSTING MACHINES"
   ]
  },
  {
   "cell_type": "code",
   "execution_count": 54,
   "id": "634b0a2c",
   "metadata": {},
   "outputs": [],
   "source": [
    "#Building a GB machine model\n",
    "#Importing necessary modules\n",
    "from sklearn.ensemble import GradientBoostingClassifier"
   ]
  },
  {
   "cell_type": "code",
   "execution_count": 55,
   "id": "ad787945",
   "metadata": {},
   "outputs": [
    {
     "data": {
      "text/plain": [
       "GradientBoostingClassifier(random_state=0)"
      ]
     },
     "execution_count": 55,
     "metadata": {},
     "output_type": "execute_result"
    }
   ],
   "source": [
    "#Creating my GBM model\n",
    "#By default, 100 trees of maximum depth 3 and a learning rate of 0.1 are used\n",
    "gbrt = GradientBoostingClassifier(random_state=0)\n",
    "gbrt.fit(X_train, y_train)"
   ]
  },
  {
   "cell_type": "code",
   "execution_count": 56,
   "id": "57c38a51",
   "metadata": {},
   "outputs": [
    {
     "name": "stdout",
     "output_type": "stream",
     "text": [
      "Accuracy on training set: 0.832\n",
      "Accuracy on test set: 0.703\n"
     ]
    }
   ],
   "source": [
    "#Accuracy score\n",
    "print(\"Accuracy on training set: {:.3f}\".format(gbrt.score(X_train, y_train)))\n",
    "print(\"Accuracy on test set: {:.3f}\".format(gbrt.score(X_test, y_test)))\n"
   ]
  },
  {
   "cell_type": "code",
   "execution_count": 61,
   "id": "da77c8bd",
   "metadata": {},
   "outputs": [
    {
     "name": "stdout",
     "output_type": "stream",
     "text": [
      "(1, 21)\n"
     ]
    },
    {
     "data": {
      "text/plain": [
       "array([[14,  1,  0,  0,  0,  0,  0,  0,  1,  0,  1,  0,  1,  0,  1,  0,\n",
       "         0,  1,  1,  0,  0]], dtype=int64)"
      ]
     },
     "execution_count": 61,
     "metadata": {},
     "output_type": "execute_result"
    }
   ],
   "source": [
    "#Fetching the 16th row of the array\n",
    "X_newest=np.array([X[15]])\n",
    "print(X_newest.shape)\n",
    "X_newest"
   ]
  },
  {
   "cell_type": "code",
   "execution_count": 59,
   "id": "ea22c465",
   "metadata": {},
   "outputs": [
    {
     "data": {
      "text/plain": [
       "array([0], dtype=int64)"
      ]
     },
     "execution_count": 59,
     "metadata": {},
     "output_type": "execute_result"
    }
   ],
   "source": [
    "#Predicting the 16th row\n",
    "predic=gbrt.predict(X_newest)\n",
    "predic\n",
    "\n",
    "#Wrong prediction!\n",
    "#Model wasn't suffucient"
   ]
  },
  {
   "cell_type": "markdown",
   "id": "d9b3560c",
   "metadata": {},
   "source": [
    "# DECISION TREES"
   ]
  },
  {
   "cell_type": "code",
   "execution_count": 27,
   "id": "2f5b84ba",
   "metadata": {},
   "outputs": [],
   "source": [
    "#Building a decision tree model\n",
    "#Importing necessary modules\n",
    "from sklearn.tree import DecisionTreeClassifier"
   ]
  },
  {
   "cell_type": "code",
   "execution_count": 28,
   "id": "20804d47",
   "metadata": {},
   "outputs": [
    {
     "name": "stdout",
     "output_type": "stream",
     "text": [
      "Accuracy on training set: 0.908\n",
      "Accuracy on test set: 0.644\n"
     ]
    }
   ],
   "source": [
    "#The model\n",
    "tree = DecisionTreeClassifier(random_state=0)\n",
    "tree.fit(X_train, y_train)\n",
    "print(\"Accuracy on training set: {:.3f}\".format(tree.score(X_train, y_train)))\n",
    "print(\"Accuracy on test set: {:.3f}\".format(tree.score(X_test, y_test)))\n"
   ]
  },
  {
   "cell_type": "code",
   "execution_count": 29,
   "id": "ecf7601a",
   "metadata": {},
   "outputs": [
    {
     "name": "stdout",
     "output_type": "stream",
     "text": [
      "Accuracy on training set: 0.723\n",
      "Accuracy on test set: 0.683\n"
     ]
    }
   ],
   "source": [
    "#Lets try pre-prunning now to reduce overfitting\n",
    "#Lets set max_depth=4, meaning only four consecutive questions can be asked\n",
    "treeprun = DecisionTreeClassifier(max_depth=4, random_state=0)\n",
    "treeprun.fit(X_train, y_train)\n",
    "print(\"Accuracy on training set: {:.3f}\".format(treeprun.score(X_train, y_train)))\n",
    "print(\"Accuracy on test set: {:.3f}\".format(treeprun.score(X_test, y_test)))"
   ]
  },
  {
   "cell_type": "markdown",
   "id": "e99146c1",
   "metadata": {},
   "source": [
    "# RANDOM FOREST"
   ]
  },
  {
   "cell_type": "code",
   "execution_count": 31,
   "id": "72616a57",
   "metadata": {},
   "outputs": [],
   "source": [
    "#Building a random forest model\n",
    "#Importing necessary modules\n",
    "from sklearn.ensemble import RandomForestClassifier"
   ]
  },
  {
   "cell_type": "code",
   "execution_count": 32,
   "id": "6b46d9b4",
   "metadata": {},
   "outputs": [
    {
     "data": {
      "text/plain": [
       "RandomForestClassifier(random_state=0)"
      ]
     },
     "execution_count": 32,
     "metadata": {},
     "output_type": "execute_result"
    }
   ],
   "source": [
    "#Applying a forest of 100 trees\n",
    "forest = RandomForestClassifier(n_estimators=100, random_state=0)\n",
    "forest.fit(X_train, y_train)"
   ]
  },
  {
   "cell_type": "code",
   "execution_count": 33,
   "id": "8d030a59",
   "metadata": {},
   "outputs": [
    {
     "name": "stdout",
     "output_type": "stream",
     "text": [
      "Accuracy on training set: 0.908\n",
      "Accuracy on test set: 0.703\n"
     ]
    }
   ],
   "source": [
    "#Accuracy score\n",
    "print(\"Accuracy on training set: {:.3f}\".format(forest.score(X_train, y_train)))\n",
    "print(\"Accuracy on test set: {:.3f}\".format(forest.score(X_test, y_test)))\n",
    "\n",
    "#The models are not suffucient probably due to the features collected during the survey being insignificant"
   ]
  }
 ],
 "metadata": {
  "kernelspec": {
   "display_name": "Python 3 (ipykernel)",
   "language": "python",
   "name": "python3"
  },
  "language_info": {
   "codemirror_mode": {
    "name": "ipython",
    "version": 3
   },
   "file_extension": ".py",
   "mimetype": "text/x-python",
   "name": "python",
   "nbconvert_exporter": "python",
   "pygments_lexer": "ipython3",
   "version": "3.9.7"
  }
 },
 "nbformat": 4,
 "nbformat_minor": 5
}
